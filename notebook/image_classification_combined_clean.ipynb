{
 "cells": [
  {
   "cell_type": "code",
   "execution_count": 47,
   "id": "5cc53d14-c9f6-42e3-a529-43cdae5d4818",
   "metadata": {},
   "outputs": [],
   "source": [
    "import warnings\n",
    "warnings.filterwarnings(\"ignore\")\n",
    "\n",
    "import numpy as np\n",
    "import matplotlib.pyplot as plt\n",
    "import seaborn as sns\n",
    "import tensorflow as tf\n",
    "from tensorflow.keras import layers, models\n",
    "from tensorflow.keras.utils import to_categorical\n",
    "from sklearn.model_selection import train_test_split\n",
    "import cv2\n"
   ]
  },
  {
   "cell_type": "code",
   "execution_count": 48,
   "id": "595ac380-1bf3-486e-82df-1ff53fc85bc8",
   "metadata": {},
   "outputs": [],
   "source": [
    "fashion_mnist = tf.keras.datasets.fashion_mnist\n",
    "(x_train_f, y_train_f), (x_test_f, y_test_f) = fashion_mnist.load_data()\n",
    "\n",
    "# Resize to 32x32 and add channel dimension\n",
    "x_train_f = np.expand_dims(x_train_f, -1)\n",
    "x_test_f = np.expand_dims(x_test_f, -1)\n",
    "x_train_f = tf.image.resize(x_train_f, [32, 32])\n",
    "x_test_f = tf.image.resize(x_test_f, [32, 32])\n",
    "\n",
    "# Repeat grayscale channel to RGB (3 channels)\n",
    "x_train_f = tf.image.grayscale_to_rgb(x_train_f)\n",
    "x_test_f = tf.image.grayscale_to_rgb(x_test_f)\n",
    "\n",
    "# Normalize\n",
    "x_train_f = x_train_f / 255.0\n",
    "x_test_f = x_test_f / 255.0\n",
    "\n",
    "# Fix: Copy labels before modifying\n",
    "y_train_f = y_train_f.copy() + 100\n",
    "y_test_f = y_test_f.copy() + 100\n"
   ]
  },
  {
   "cell_type": "code",
   "execution_count": 49,
   "id": "e21c3e71-dee2-4d09-9b8f-b9a64fdfcdc8",
   "metadata": {
    "scrolled": true
   },
   "outputs": [],
   "source": [
    "cifar = tf.keras.datasets.cifar10\n",
    "(x_train_c, y_train_c), (x_test_c, y_test_c) = cifar.load_data()\n",
    "\n",
    "# Normalize\n",
    "x_train_c = x_train_c / 255.0\n",
    "x_test_c = x_test_c / 255.0\n",
    "\n",
    "# Flatten labels\n",
    "y_train_c = y_train_c.flatten()\n",
    "y_test_c = y_test_c.flatten()\n"
   ]
  },
  {
   "cell_type": "code",
   "execution_count": 50,
   "id": "a8b20325-02c2-453c-af16-37e6b6131c78",
   "metadata": {},
   "outputs": [
    {
     "name": "stdout",
     "output_type": "stream",
     "text": [
      "Requirement already satisfied: tensorflow-datasets in c:\\projects\\image_classification_project\\.venv\\lib\\site-packages (4.9.9)\n",
      "Requirement already satisfied: absl-py in c:\\projects\\image_classification_project\\.venv\\lib\\site-packages (from tensorflow-datasets) (2.3.1)\n",
      "Requirement already satisfied: dm-tree in c:\\projects\\image_classification_project\\.venv\\lib\\site-packages (from tensorflow-datasets) (0.1.9)\n",
      "Requirement already satisfied: etils>=1.9.1 in c:\\projects\\image_classification_project\\.venv\\lib\\site-packages (from etils[edc,enp,epath,epy,etree]>=1.9.1; python_version >= \"3.11\"->tensorflow-datasets) (1.13.0)\n",
      "Requirement already satisfied: immutabledict in c:\\projects\\image_classification_project\\.venv\\lib\\site-packages (from tensorflow-datasets) (4.2.1)\n",
      "Requirement already satisfied: numpy in c:\\projects\\image_classification_project\\.venv\\lib\\site-packages (from tensorflow-datasets) (2.2.6)\n",
      "Requirement already satisfied: promise in c:\\projects\\image_classification_project\\.venv\\lib\\site-packages (from tensorflow-datasets) (2.3)\n",
      "Requirement already satisfied: protobuf>=3.20 in c:\\projects\\image_classification_project\\.venv\\lib\\site-packages (from tensorflow-datasets) (6.31.1)\n",
      "Requirement already satisfied: psutil in c:\\projects\\image_classification_project\\.venv\\lib\\site-packages (from tensorflow-datasets) (7.0.0)\n",
      "Requirement already satisfied: pyarrow in c:\\projects\\image_classification_project\\.venv\\lib\\site-packages (from tensorflow-datasets) (21.0.0)\n",
      "Requirement already satisfied: requests>=2.19.0 in c:\\projects\\image_classification_project\\.venv\\lib\\site-packages (from tensorflow-datasets) (2.32.4)\n",
      "Requirement already satisfied: simple_parsing in c:\\projects\\image_classification_project\\.venv\\lib\\site-packages (from tensorflow-datasets) (0.1.7)\n",
      "Requirement already satisfied: tensorflow-metadata in c:\\projects\\image_classification_project\\.venv\\lib\\site-packages (from tensorflow-datasets) (1.17.2)\n",
      "Requirement already satisfied: termcolor in c:\\projects\\image_classification_project\\.venv\\lib\\site-packages (from tensorflow-datasets) (3.1.0)\n",
      "Requirement already satisfied: toml in c:\\projects\\image_classification_project\\.venv\\lib\\site-packages (from tensorflow-datasets) (0.10.2)\n",
      "Requirement already satisfied: tqdm in c:\\projects\\image_classification_project\\.venv\\lib\\site-packages (from tensorflow-datasets) (4.67.1)\n",
      "Requirement already satisfied: wrapt in c:\\projects\\image_classification_project\\.venv\\lib\\site-packages (from tensorflow-datasets) (1.17.2)\n",
      "Requirement already satisfied: einops in c:\\projects\\image_classification_project\\.venv\\lib\\site-packages (from etils[edc,enp,epath,epy,etree]>=1.9.1; python_version >= \"3.11\"->tensorflow-datasets) (0.8.1)\n",
      "Requirement already satisfied: fsspec in c:\\projects\\image_classification_project\\.venv\\lib\\site-packages (from etils[edc,enp,epath,epy,etree]>=1.9.1; python_version >= \"3.11\"->tensorflow-datasets) (2025.3.0)\n",
      "Requirement already satisfied: importlib_resources in c:\\projects\\image_classification_project\\.venv\\lib\\site-packages (from etils[edc,enp,epath,epy,etree]>=1.9.1; python_version >= \"3.11\"->tensorflow-datasets) (6.5.2)\n",
      "Requirement already satisfied: typing_extensions in c:\\projects\\image_classification_project\\.venv\\lib\\site-packages (from etils[edc,enp,epath,epy,etree]>=1.9.1; python_version >= \"3.11\"->tensorflow-datasets) (4.14.1)\n",
      "Requirement already satisfied: zipp in c:\\projects\\image_classification_project\\.venv\\lib\\site-packages (from etils[edc,enp,epath,epy,etree]>=1.9.1; python_version >= \"3.11\"->tensorflow-datasets) (3.23.0)\n",
      "Requirement already satisfied: charset_normalizer<4,>=2 in c:\\projects\\image_classification_project\\.venv\\lib\\site-packages (from requests>=2.19.0->tensorflow-datasets) (3.4.2)\n",
      "Requirement already satisfied: idna<4,>=2.5 in c:\\projects\\image_classification_project\\.venv\\lib\\site-packages (from requests>=2.19.0->tensorflow-datasets) (3.10)\n",
      "Requirement already satisfied: urllib3<3,>=1.21.1 in c:\\projects\\image_classification_project\\.venv\\lib\\site-packages (from requests>=2.19.0->tensorflow-datasets) (2.5.0)\n",
      "Requirement already satisfied: certifi>=2017.4.17 in c:\\projects\\image_classification_project\\.venv\\lib\\site-packages (from requests>=2.19.0->tensorflow-datasets) (2025.7.14)\n",
      "Requirement already satisfied: attrs>=18.2.0 in c:\\projects\\image_classification_project\\.venv\\lib\\site-packages (from dm-tree->tensorflow-datasets) (25.3.0)\n",
      "Requirement already satisfied: six in c:\\projects\\image_classification_project\\.venv\\lib\\site-packages (from promise->tensorflow-datasets) (1.17.0)\n",
      "Requirement already satisfied: docstring-parser<1.0,>=0.15 in c:\\projects\\image_classification_project\\.venv\\lib\\site-packages (from simple_parsing->tensorflow-datasets) (0.17.0)\n",
      "Requirement already satisfied: googleapis-common-protos<2,>=1.56.4 in c:\\projects\\image_classification_project\\.venv\\lib\\site-packages (from tensorflow-metadata->tensorflow-datasets) (1.70.0)\n",
      "Requirement already satisfied: colorama in c:\\projects\\image_classification_project\\.venv\\lib\\site-packages (from tqdm->tensorflow-datasets) (0.4.6)\n"
     ]
    }
   ],
   "source": [
    "!pip install tensorflow-datasets\n"
   ]
  },
  {
   "cell_type": "code",
   "execution_count": 51,
   "id": "7958aeb0-0c15-458d-8c2b-e47890db1c02",
   "metadata": {},
   "outputs": [],
   "source": [
    "from PIL import Image\n",
    "import os\n",
    "\n",
    "for category in [\"Cat\", \"Dog\"]:\n",
    "    folder = f\"C:/Users/HP/datasets/cats_vs_dogs/PetImages/{category}\"\n",
    "    for filename in os.listdir(folder):\n",
    "        file_path = os.path.join(folder, filename)\n",
    "        try:\n",
    "            img = Image.open(file_path)\n",
    "            img.verify()  # Verify if image is okay\n",
    "        except:\n",
    "            print(f\"Deleting corrupt image: {file_path}\")\n",
    "            os.remove(file_path)\n"
   ]
  },
  {
   "cell_type": "code",
   "execution_count": 52,
   "id": "07f404af-69c0-406f-8bc3-b423068690e4",
   "metadata": {},
   "outputs": [
    {
     "name": "stdout",
     "output_type": "stream",
     "text": [
      "Found 1000 files belonging to 2 classes.\n"
     ]
    }
   ],
   "source": [
    "import os\n",
    "import tensorflow as tf\n",
    "import numpy as np\n",
    "import logging\n",
    "\n",
    "# Suppress TensorFlow warnings\n",
    "logging.getLogger(\"tensorflow\").setLevel(logging.ERROR)\n",
    "\n",
    "# ✅ Point to your extracted directory\n",
    "dataset_path = \"C:/Users/HP/datasets/cats_vs_dogs/PetImages\"\n",
    "\n",
    "# Load from directory (auto skips corrupted files)\n",
    "train_ds = tf.keras.utils.image_dataset_from_directory(\n",
    "    dataset_path,\n",
    "    labels='inferred',\n",
    "    label_mode='int',\n",
    "    image_size=(32, 32),\n",
    "    batch_size=1000,\n",
    "    shuffle=True\n",
    ")\n",
    "\n",
    "# Normalize images and shift labels\n",
    "def preprocess(image, label):\n",
    "    image = tf.cast(image, tf.float32) / 255.0\n",
    "    label += 200  # Shift label to avoid clash with other datasets\n",
    "    return image, label\n",
    "\n",
    "train_ds = train_ds.map(preprocess).prefetch(tf.data.AUTOTUNE)\n",
    "\n",
    "# Convert first batch to NumPy\n",
    "x_cd, y_cd = next(iter(train_ds))\n",
    "x_cd = x_cd.numpy()\n",
    "y_cd = y_cd.numpy()\n"
   ]
  },
  {
   "cell_type": "code",
   "execution_count": 53,
   "id": "afd7e0b7-fe65-46b9-98fe-197bd62f34f7",
   "metadata": {},
   "outputs": [
    {
     "name": "stdout",
     "output_type": "stream",
     "text": [
      "x_cd shape: (1000, 32, 32, 3)\n",
      "y_cd shape: (1000,)\n",
      "Unique labels: [200 201]\n"
     ]
    }
   ],
   "source": [
    "print(\"x_cd shape:\", x_cd.shape)\n",
    "print(\"y_cd shape:\", y_cd.shape)\n",
    "print(\"Unique labels:\", np.unique(y_cd))\n"
   ]
  },
  {
   "cell_type": "code",
   "execution_count": 54,
   "id": "85b7a15a-14dd-409b-8179-16a3dd3793ab",
   "metadata": {},
   "outputs": [],
   "source": [
    "mnist = tf.keras.datasets.mnist\n",
    "(x_train_m, y_train_m), (x_test_m, y_test_m) = mnist.load_data()\n",
    "\n",
    "# Resize to 32x32 and add channel dimension\n",
    "x_train_m = np.expand_dims(x_train_m, -1)\n",
    "x_test_m = np.expand_dims(x_test_m, -1)\n",
    "x_train_m = tf.image.resize(x_train_m, [32, 32])\n",
    "x_test_m = tf.image.resize(x_test_m, [32, 32])\n",
    "\n",
    "# Repeat grayscale channel to RGB (3 channels)\n",
    "x_train_m = tf.image.grayscale_to_rgb(x_train_m)\n",
    "x_test_m = tf.image.grayscale_to_rgb(x_test_m)\n",
    "\n",
    "# Normalize\n",
    "x_train_m = x_train_m / 255.0\n",
    "x_test_m = x_test_m / 255.0\n"
   ]
  },
  {
   "cell_type": "code",
   "execution_count": 55,
   "id": "7d962319-17e4-4c83-9a22-28e96a213026",
   "metadata": {},
   "outputs": [],
   "source": [
    "# Combine image arrays\n",
    "x_all = tf.concat([x_train_c, x_test_c, \n",
    "                   x_train_f, x_test_f, \n",
    "                   x_train_m, x_test_m], axis=0)\n",
    "\n",
    "# Combine label arrays\n",
    "y_all = np.concatenate([y_train_c, y_test_c, \n",
    "                        y_train_f, y_test_f, \n",
    "                        y_train_m, y_test_m])\n"
   ]
  },
  {
   "cell_type": "code",
   "execution_count": 56,
   "id": "b91d370a-75b9-4c27-8fec-1d634e7faa9e",
   "metadata": {},
   "outputs": [],
   "source": [
    "# Append Cat vs Dog dataset\n",
    "x_all = np.concatenate([x_all, x_cd], axis=0)\n",
    "y_all = np.concatenate([y_all, y_cd], axis=0)\n"
   ]
  },
  {
   "cell_type": "code",
   "execution_count": 57,
   "id": "abb8d929-952f-4c25-829d-a4e7c822ab7b",
   "metadata": {},
   "outputs": [],
   "source": [
    "# ✅ Re-map labels to continuous 0–N range\n",
    "from sklearn.preprocessing import LabelEncoder\n",
    "from sklearn.model_selection import train_test_split\n",
    "\n",
    "label_encoder = LabelEncoder()\n",
    "y_all_encoded = label_encoder.fit_transform(y_all)\n",
    "\n",
    "# ✅ Train-test split after encoding\n",
    "x_train, x_test, y_train, y_test = train_test_split(\n",
    "    x_all, y_all_encoded, test_size=0.2, random_state=42, stratify=y_all_encoded\n",
    ")\n"
   ]
  },
  {
   "cell_type": "code",
   "execution_count": 58,
   "id": "c0b508c8-bea0-475c-8bb5-9f35844409e8",
   "metadata": {},
   "outputs": [
    {
     "data": {
      "text/html": [
       "<pre style=\"white-space:pre;overflow-x:auto;line-height:normal;font-family:Menlo,'DejaVu Sans Mono',consolas,'Courier New',monospace\"><span style=\"font-weight: bold\">Model: \"sequential_3\"</span>\n",
       "</pre>\n"
      ],
      "text/plain": [
       "\u001b[1mModel: \"sequential_3\"\u001b[0m\n"
      ]
     },
     "metadata": {},
     "output_type": "display_data"
    },
    {
     "data": {
      "text/html": [
       "<pre style=\"white-space:pre;overflow-x:auto;line-height:normal;font-family:Menlo,'DejaVu Sans Mono',consolas,'Courier New',monospace\">┏━━━━━━━━━━━━━━━━━━━━━━━━━━━━━━━┳━━━━━━━━━━━━━━━━━━━━━━━┳━━━━━━━━━━━━━━┓\n",
       "┃<span style=\"font-weight: bold\"> Layer (type)                  </span>┃<span style=\"font-weight: bold\"> Output Shape          </span>┃<span style=\"font-weight: bold\">      Param # </span>┃\n",
       "┡━━━━━━━━━━━━━━━━━━━━━━━━━━━━━━━╇━━━━━━━━━━━━━━━━━━━━━━━╇━━━━━━━━━━━━━━┩\n",
       "│ conv2d_9 (<span style=\"color: #0087ff; text-decoration-color: #0087ff\">Conv2D</span>)             │ (<span style=\"color: #00d7ff; text-decoration-color: #00d7ff\">None</span>, <span style=\"color: #00af00; text-decoration-color: #00af00\">30</span>, <span style=\"color: #00af00; text-decoration-color: #00af00\">30</span>, <span style=\"color: #00af00; text-decoration-color: #00af00\">32</span>)    │          <span style=\"color: #00af00; text-decoration-color: #00af00\">896</span> │\n",
       "├───────────────────────────────┼───────────────────────┼──────────────┤\n",
       "│ max_pooling2d_6               │ (<span style=\"color: #00d7ff; text-decoration-color: #00d7ff\">None</span>, <span style=\"color: #00af00; text-decoration-color: #00af00\">15</span>, <span style=\"color: #00af00; text-decoration-color: #00af00\">15</span>, <span style=\"color: #00af00; text-decoration-color: #00af00\">32</span>)    │            <span style=\"color: #00af00; text-decoration-color: #00af00\">0</span> │\n",
       "│ (<span style=\"color: #0087ff; text-decoration-color: #0087ff\">MaxPooling2D</span>)                │                       │              │\n",
       "├───────────────────────────────┼───────────────────────┼──────────────┤\n",
       "│ conv2d_10 (<span style=\"color: #0087ff; text-decoration-color: #0087ff\">Conv2D</span>)            │ (<span style=\"color: #00d7ff; text-decoration-color: #00d7ff\">None</span>, <span style=\"color: #00af00; text-decoration-color: #00af00\">13</span>, <span style=\"color: #00af00; text-decoration-color: #00af00\">13</span>, <span style=\"color: #00af00; text-decoration-color: #00af00\">64</span>)    │       <span style=\"color: #00af00; text-decoration-color: #00af00\">18,496</span> │\n",
       "├───────────────────────────────┼───────────────────────┼──────────────┤\n",
       "│ max_pooling2d_7               │ (<span style=\"color: #00d7ff; text-decoration-color: #00d7ff\">None</span>, <span style=\"color: #00af00; text-decoration-color: #00af00\">6</span>, <span style=\"color: #00af00; text-decoration-color: #00af00\">6</span>, <span style=\"color: #00af00; text-decoration-color: #00af00\">64</span>)      │            <span style=\"color: #00af00; text-decoration-color: #00af00\">0</span> │\n",
       "│ (<span style=\"color: #0087ff; text-decoration-color: #0087ff\">MaxPooling2D</span>)                │                       │              │\n",
       "├───────────────────────────────┼───────────────────────┼──────────────┤\n",
       "│ conv2d_11 (<span style=\"color: #0087ff; text-decoration-color: #0087ff\">Conv2D</span>)            │ (<span style=\"color: #00d7ff; text-decoration-color: #00d7ff\">None</span>, <span style=\"color: #00af00; text-decoration-color: #00af00\">4</span>, <span style=\"color: #00af00; text-decoration-color: #00af00\">4</span>, <span style=\"color: #00af00; text-decoration-color: #00af00\">128</span>)     │       <span style=\"color: #00af00; text-decoration-color: #00af00\">73,856</span> │\n",
       "├───────────────────────────────┼───────────────────────┼──────────────┤\n",
       "│ flatten_3 (<span style=\"color: #0087ff; text-decoration-color: #0087ff\">Flatten</span>)           │ (<span style=\"color: #00d7ff; text-decoration-color: #00d7ff\">None</span>, <span style=\"color: #00af00; text-decoration-color: #00af00\">2048</span>)          │            <span style=\"color: #00af00; text-decoration-color: #00af00\">0</span> │\n",
       "├───────────────────────────────┼───────────────────────┼──────────────┤\n",
       "│ dense_6 (<span style=\"color: #0087ff; text-decoration-color: #0087ff\">Dense</span>)               │ (<span style=\"color: #00d7ff; text-decoration-color: #00d7ff\">None</span>, <span style=\"color: #00af00; text-decoration-color: #00af00\">128</span>)           │      <span style=\"color: #00af00; text-decoration-color: #00af00\">262,272</span> │\n",
       "├───────────────────────────────┼───────────────────────┼──────────────┤\n",
       "│ dense_7 (<span style=\"color: #0087ff; text-decoration-color: #0087ff\">Dense</span>)               │ (<span style=\"color: #00d7ff; text-decoration-color: #00d7ff\">None</span>, <span style=\"color: #00af00; text-decoration-color: #00af00\">22</span>)            │        <span style=\"color: #00af00; text-decoration-color: #00af00\">2,838</span> │\n",
       "└───────────────────────────────┴───────────────────────┴──────────────┘\n",
       "</pre>\n"
      ],
      "text/plain": [
       "┏━━━━━━━━━━━━━━━━━━━━━━━━━━━━━━━┳━━━━━━━━━━━━━━━━━━━━━━━┳━━━━━━━━━━━━━━┓\n",
       "┃\u001b[1m \u001b[0m\u001b[1mLayer (type)                 \u001b[0m\u001b[1m \u001b[0m┃\u001b[1m \u001b[0m\u001b[1mOutput Shape         \u001b[0m\u001b[1m \u001b[0m┃\u001b[1m \u001b[0m\u001b[1m     Param #\u001b[0m\u001b[1m \u001b[0m┃\n",
       "┡━━━━━━━━━━━━━━━━━━━━━━━━━━━━━━━╇━━━━━━━━━━━━━━━━━━━━━━━╇━━━━━━━━━━━━━━┩\n",
       "│ conv2d_9 (\u001b[38;5;33mConv2D\u001b[0m)             │ (\u001b[38;5;45mNone\u001b[0m, \u001b[38;5;34m30\u001b[0m, \u001b[38;5;34m30\u001b[0m, \u001b[38;5;34m32\u001b[0m)    │          \u001b[38;5;34m896\u001b[0m │\n",
       "├───────────────────────────────┼───────────────────────┼──────────────┤\n",
       "│ max_pooling2d_6               │ (\u001b[38;5;45mNone\u001b[0m, \u001b[38;5;34m15\u001b[0m, \u001b[38;5;34m15\u001b[0m, \u001b[38;5;34m32\u001b[0m)    │            \u001b[38;5;34m0\u001b[0m │\n",
       "│ (\u001b[38;5;33mMaxPooling2D\u001b[0m)                │                       │              │\n",
       "├───────────────────────────────┼───────────────────────┼──────────────┤\n",
       "│ conv2d_10 (\u001b[38;5;33mConv2D\u001b[0m)            │ (\u001b[38;5;45mNone\u001b[0m, \u001b[38;5;34m13\u001b[0m, \u001b[38;5;34m13\u001b[0m, \u001b[38;5;34m64\u001b[0m)    │       \u001b[38;5;34m18,496\u001b[0m │\n",
       "├───────────────────────────────┼───────────────────────┼──────────────┤\n",
       "│ max_pooling2d_7               │ (\u001b[38;5;45mNone\u001b[0m, \u001b[38;5;34m6\u001b[0m, \u001b[38;5;34m6\u001b[0m, \u001b[38;5;34m64\u001b[0m)      │            \u001b[38;5;34m0\u001b[0m │\n",
       "│ (\u001b[38;5;33mMaxPooling2D\u001b[0m)                │                       │              │\n",
       "├───────────────────────────────┼───────────────────────┼──────────────┤\n",
       "│ conv2d_11 (\u001b[38;5;33mConv2D\u001b[0m)            │ (\u001b[38;5;45mNone\u001b[0m, \u001b[38;5;34m4\u001b[0m, \u001b[38;5;34m4\u001b[0m, \u001b[38;5;34m128\u001b[0m)     │       \u001b[38;5;34m73,856\u001b[0m │\n",
       "├───────────────────────────────┼───────────────────────┼──────────────┤\n",
       "│ flatten_3 (\u001b[38;5;33mFlatten\u001b[0m)           │ (\u001b[38;5;45mNone\u001b[0m, \u001b[38;5;34m2048\u001b[0m)          │            \u001b[38;5;34m0\u001b[0m │\n",
       "├───────────────────────────────┼───────────────────────┼──────────────┤\n",
       "│ dense_6 (\u001b[38;5;33mDense\u001b[0m)               │ (\u001b[38;5;45mNone\u001b[0m, \u001b[38;5;34m128\u001b[0m)           │      \u001b[38;5;34m262,272\u001b[0m │\n",
       "├───────────────────────────────┼───────────────────────┼──────────────┤\n",
       "│ dense_7 (\u001b[38;5;33mDense\u001b[0m)               │ (\u001b[38;5;45mNone\u001b[0m, \u001b[38;5;34m22\u001b[0m)            │        \u001b[38;5;34m2,838\u001b[0m │\n",
       "└───────────────────────────────┴───────────────────────┴──────────────┘\n"
      ]
     },
     "metadata": {},
     "output_type": "display_data"
    },
    {
     "data": {
      "text/html": [
       "<pre style=\"white-space:pre;overflow-x:auto;line-height:normal;font-family:Menlo,'DejaVu Sans Mono',consolas,'Courier New',monospace\"><span style=\"font-weight: bold\"> Total params: </span><span style=\"color: #00af00; text-decoration-color: #00af00\">358,358</span> (1.37 MB)\n",
       "</pre>\n"
      ],
      "text/plain": [
       "\u001b[1m Total params: \u001b[0m\u001b[38;5;34m358,358\u001b[0m (1.37 MB)\n"
      ]
     },
     "metadata": {},
     "output_type": "display_data"
    },
    {
     "data": {
      "text/html": [
       "<pre style=\"white-space:pre;overflow-x:auto;line-height:normal;font-family:Menlo,'DejaVu Sans Mono',consolas,'Courier New',monospace\"><span style=\"font-weight: bold\"> Trainable params: </span><span style=\"color: #00af00; text-decoration-color: #00af00\">358,358</span> (1.37 MB)\n",
       "</pre>\n"
      ],
      "text/plain": [
       "\u001b[1m Trainable params: \u001b[0m\u001b[38;5;34m358,358\u001b[0m (1.37 MB)\n"
      ]
     },
     "metadata": {},
     "output_type": "display_data"
    },
    {
     "data": {
      "text/html": [
       "<pre style=\"white-space:pre;overflow-x:auto;line-height:normal;font-family:Menlo,'DejaVu Sans Mono',consolas,'Courier New',monospace\"><span style=\"font-weight: bold\"> Non-trainable params: </span><span style=\"color: #00af00; text-decoration-color: #00af00\">0</span> (0.00 B)\n",
       "</pre>\n"
      ],
      "text/plain": [
       "\u001b[1m Non-trainable params: \u001b[0m\u001b[38;5;34m0\u001b[0m (0.00 B)\n"
      ]
     },
     "metadata": {},
     "output_type": "display_data"
    }
   ],
   "source": [
    "model = models.Sequential([\n",
    "    layers.Conv2D(32, (3, 3), activation='relu', input_shape=(32, 32, 3)),\n",
    "    layers.MaxPooling2D((2, 2)),\n",
    "    layers.Conv2D(64, (3, 3), activation='relu'),\n",
    "    layers.MaxPooling2D((2, 2)),\n",
    "    layers.Conv2D(128, (3, 3), activation='relu'),\n",
    "    layers.Flatten(),\n",
    "    layers.Dense(128, activation='relu'),\n",
    "    layers.Dense(len(np.unique(y_all_encoded)), activation='softmax')\n",
    "  # num classes\n",
    "])\n",
    "model.compile(optimizer='adam',\n",
    "              loss='sparse_categorical_crossentropy',\n",
    "              metrics=['accuracy'])\n",
    "model.summary()\n"
   ]
  },
  {
   "cell_type": "code",
   "execution_count": 59,
   "id": "ac9fb311-816e-4c22-9875-dd61a011fdbb",
   "metadata": {},
   "outputs": [
    {
     "name": "stdout",
     "output_type": "stream",
     "text": [
      "Epoch 1/10\n",
      "\u001b[1m4523/4523\u001b[0m \u001b[32m━━━━━━━━━━━━━━━━━━━━\u001b[0m\u001b[37m\u001b[0m \u001b[1m72s\u001b[0m 15ms/step - accuracy: 0.7652 - loss: 0.6705 - val_accuracy: 0.8184 - val_loss: 0.5196\n",
      "Epoch 2/10\n",
      "\u001b[1m4523/4523\u001b[0m \u001b[32m━━━━━━━━━━━━━━━━━━━━\u001b[0m\u001b[37m\u001b[0m \u001b[1m64s\u001b[0m 14ms/step - accuracy: 0.8383 - loss: 0.4597 - val_accuracy: 0.8400 - val_loss: 0.4459\n",
      "Epoch 3/10\n",
      "\u001b[1m4523/4523\u001b[0m \u001b[32m━━━━━━━━━━━━━━━━━━━━\u001b[0m\u001b[37m\u001b[0m \u001b[1m62s\u001b[0m 14ms/step - accuracy: 0.8643 - loss: 0.3863 - val_accuracy: 0.8509 - val_loss: 0.4333\n",
      "Epoch 4/10\n",
      "\u001b[1m4523/4523\u001b[0m \u001b[32m━━━━━━━━━━━━━━━━━━━━\u001b[0m\u001b[37m\u001b[0m \u001b[1m64s\u001b[0m 14ms/step - accuracy: 0.8806 - loss: 0.3378 - val_accuracy: 0.8535 - val_loss: 0.4297\n",
      "Epoch 5/10\n",
      "\u001b[1m4523/4523\u001b[0m \u001b[32m━━━━━━━━━━━━━━━━━━━━\u001b[0m\u001b[37m\u001b[0m \u001b[1m64s\u001b[0m 14ms/step - accuracy: 0.8944 - loss: 0.2971 - val_accuracy: 0.8578 - val_loss: 0.4350\n",
      "Epoch 6/10\n",
      "\u001b[1m4523/4523\u001b[0m \u001b[32m━━━━━━━━━━━━━━━━━━━━\u001b[0m\u001b[37m\u001b[0m \u001b[1m64s\u001b[0m 14ms/step - accuracy: 0.9073 - loss: 0.2607 - val_accuracy: 0.8619 - val_loss: 0.4345\n",
      "Epoch 7/10\n",
      "\u001b[1m4523/4523\u001b[0m \u001b[32m━━━━━━━━━━━━━━━━━━━━\u001b[0m\u001b[37m\u001b[0m \u001b[1m64s\u001b[0m 14ms/step - accuracy: 0.9175 - loss: 0.2332 - val_accuracy: 0.8613 - val_loss: 0.4527\n",
      "Epoch 8/10\n",
      "\u001b[1m4523/4523\u001b[0m \u001b[32m━━━━━━━━━━━━━━━━━━━━\u001b[0m\u001b[37m\u001b[0m \u001b[1m65s\u001b[0m 14ms/step - accuracy: 0.9272 - loss: 0.2037 - val_accuracy: 0.8608 - val_loss: 0.4889\n",
      "Epoch 9/10\n",
      "\u001b[1m4523/4523\u001b[0m \u001b[32m━━━━━━━━━━━━━━━━━━━━\u001b[0m\u001b[37m\u001b[0m \u001b[1m66s\u001b[0m 15ms/step - accuracy: 0.9353 - loss: 0.1803 - val_accuracy: 0.8636 - val_loss: 0.5241\n",
      "Epoch 10/10\n",
      "\u001b[1m4523/4523\u001b[0m \u001b[32m━━━━━━━━━━━━━━━━━━━━\u001b[0m\u001b[37m\u001b[0m \u001b[1m70s\u001b[0m 15ms/step - accuracy: 0.9422 - loss: 0.1611 - val_accuracy: 0.8549 - val_loss: 0.5804\n"
     ]
    }
   ],
   "source": [
    "history = model.fit(x_train, y_train, epochs=10, validation_split=0.1)\n"
   ]
  },
  {
   "cell_type": "code",
   "execution_count": 60,
   "id": "b176f5df-268c-4297-95c6-c61492126da4",
   "metadata": {},
   "outputs": [
    {
     "data": {
      "image/png": "[encoded data removed]",
      "text/plain": [
       "<Figure size 640x480 with 1 Axes>"
      ]
     },
     "metadata": {},
     "output_type": "display_data"
    },
    {
     "data": {
      "image/png": "[encoded data removed]",
      "text/plain": [
       "<Figure size 640x480 with 1 Axes>"
      ]
     },
     "metadata": {},
     "output_type": "display_data"
    }
   ],
   "source": [
    "import matplotlib.pyplot as plt\n",
    "\n",
    "# Accuracy\n",
    "plt.plot(history.history['accuracy'], label='Train Acc')\n",
    "plt.plot(history.history['val_accuracy'], label='Val Acc')\n",
    "plt.title('Model Accuracy')\n",
    "plt.xlabel('Epoch')\n",
    "plt.ylabel('Accuracy')\n",
    "plt.legend()\n",
    "plt.grid(True)\n",
    "plt.show()\n",
    "\n",
    "# Loss\n",
    "plt.plot(history.history['loss'], label='Train Loss')\n",
    "plt.plot(history.history['val_loss'], label='Val Loss')\n",
    "plt.title('Model Loss')\n",
    "plt.xlabel('Epoch')\n",
    "plt.ylabel('Loss')\n",
    "plt.legend()\n",
    "plt.grid(True)\n",
    "plt.show()\n"
   ]
  },
  {
   "cell_type": "code",
   "execution_count": 61,
   "id": "c43ddb5a-8607-440e-85a0-f13cd87ab2a0",
   "metadata": {},
   "outputs": [
    {
     "name": "stdout",
     "output_type": "stream",
     "text": [
      "\u001b[1m1257/1257\u001b[0m \u001b[32m━━━━━━━━━━━━━━━━━━━━\u001b[0m\u001b[37m\u001b[0m \u001b[1m8s\u001b[0m 6ms/step - accuracy: 0.8579 - loss: 0.5727\n",
      "Test Accuracy: 0.8579, Test Loss: 0.5727\n"
     ]
    }
   ],
   "source": [
    "test_loss, test_acc = model.evaluate(x_test, y_test)\n",
    "print(f\"Test Accuracy: {test_acc:.4f}, Test Loss: {test_loss:.4f}\")\n"
   ]
  },
  {
   "cell_type": "code",
   "execution_count": 62,
   "id": "fa394954-fd78-42ab-87c9-c7c4557c780f",
   "metadata": {},
   "outputs": [
    {
     "name": "stderr",
     "output_type": "stream",
     "text": [
      "WARNING:absl:You are saving your model as an HDF5 file via `model.save()` or `keras.saving.save_model(model)`. This file format is considered legacy. We recommend using instead the native Keras format, e.g. `model.save('my_model.keras')` or `keras.saving.save_model(model, 'my_model.keras')`. \n"
     ]
    }
   ],
   "source": [
    "model.save(\"combined_image_classifier.h5\")\n"
   ]
  },
  {
   "cell_type": "code",
   "execution_count": null,
   "id": "8a03b000-7253-4236-aa75-b6268880027e",
   "metadata": {},
   "outputs": [],
   "source": []
  }
 ],
 "metadata": {
  "kernelspec": {
   "display_name": "Python 3 (ipykernel)",
   "language": "python",
   "name": "python3"
  },
  "language_info": {
   "codemirror_mode": {
    "name": "ipython",
    "version": 3
   },
   "file_extension": ".py",
   "mimetype": "text/x-python",
   "name": "python",
   "nbconvert_exporter": "python",
   "pygments_lexer": "ipython3",
   "version": "3.13.0"
  }
 },
 "nbformat": 4,
 "nbformat_minor": 5
}
